{
 "cells": [
  {
   "cell_type": "code",
   "execution_count": 1,
   "metadata": {},
   "outputs": [],
   "source": [
    "from google_play_scraper import app\n",
    "from flair.embeddings import TransformerDocumentEmbeddings\n",
    "from keybert import KeyBERT\n",
    "from datetime import datetime\n",
    "import pandas as pd\n",
    "from concurrent.futures import *\n",
    "from tqdm.notebook import tqdm"
   ]
  },
  {
   "cell_type": "code",
   "execution_count": 2,
   "metadata": {},
   "outputs": [],
   "source": [
    "dataset=[]\n",
    "app_ids=[]\n",
    "keywords=[]\n",
    "kw_model = KeyBERT(model='all-MiniLM-L6-v2')"
   ]
  },
  {
   "cell_type": "code",
   "execution_count": 3,
   "metadata": {},
   "outputs": [],
   "source": [
    "with open('appids.txt','r') as f:\n",
    "    app_ids=f.read().splitlines()"
   ]
  },
  {
   "cell_type": "code",
   "execution_count": 4,
   "metadata": {},
   "outputs": [
    {
     "name": "stdout",
     "output_type": "stream",
     "text": [
      "com.world.globle.thermometer.rp Processing...\n",
      "com.world.globle.thermometer.rp Processing Finished\n",
      "asav.roomtemprature Processing...\n",
      "asav.roomtemprature Processing Finished\n",
      "com.bitco.mineextra.coin Processing...\n",
      "com.bitco.mineextra.coin Processing Finished\n",
      "com.bitcoin.mining.btc.earning.app Processing...\n",
      "com.bitcoin.mining.btc.earning.app Processing Finished\n",
      "com.crypto.miner.app.ethereum.eth.digital.cloud.server.mining.cryptocoinminer Processing...\n",
      "com.crypto.miner.app.ethereum.eth.digital.cloud.server.mining.cryptocoinminer Processing Finished\n",
      "com.appscourt.livestreetview.gps.maps.travelnavigation.apps Processing...\n",
      "com.appscourt.livestreetview.gps.maps.travelnavigation.apps Processing Finished\n",
      "sparking.mobile.location.lions.llc Processing...\n",
      "sparking.mobile.location.lions.llc Processing Finished\n",
      "com.dvg.gpsmapcamera Processing...\n",
      "com.dvg.gpsmapcamera Processing Finished\n",
      "uk.hardbit.org Processing...\n",
      "uk.hardbit.org Processing Finished\n",
      "amplify.fill Processing...\n",
      "amplify.fill Processing Finished\n",
      "com.tempnumber.Temp_Number.Temp_Number Processing...\n",
      "com.tempnumber.Temp_Number.Temp_Number Processing Finished\n",
      "com.dualsi.cam Processing...\n",
      "com.dualsi.cam Processing Finished\n",
      "com.pog.euro.truck.cargo.simulator Processing...\n",
      "com.pog.euro.truck.cargo.simulator Processing Finished\n",
      "com.app.proffootballskills Processing...\n",
      "com.app.proffootballskills Processing Finished\n",
      "com.artaist.ai.art.texttoimage.photo.picture.generator.aicreator Processing...\n",
      "com.artaist.ai.art.texttoimage.photo.picture.generator.aicreator Processing Finished\n",
      "com.sparkapps.autobluetooth.bc Processing...\n",
      "com.sparkapps.autobluetooth.bc Processing Finished\n",
      "com.world.globle.slow.fast.video.maker Processing...\n",
      "com.world.globle.slow.fast.video.maker Processing Finished\n",
      "com.galaxy.worlds.numbertracker Processing...\n",
      "com.galaxy.worlds.numbertracker Processing Finished\n",
      "com.madhuvan.mobile.number.locationtracker Processing...\n",
      "com.madhuvan.mobile.number.locationtracker Processing Finished\n",
      "com.moderntoolsapp.mobilenumbertracker Processing...\n",
      "com.moderntoolsapp.mobilenumbertracker Processing Finished\n",
      "com.zinn.currentmobiletrackerlocation Processing...\n",
      "com.zinn.currentmobiletrackerlocation Processing Finished\n",
      "com.bal.numberlocation.livemobile.numbertracker Processing...\n",
      "com.bal.numberlocation.livemobile.numbertracker Processing Finished\n",
      "com.galaxy.worlds.numbertracker Processing...\n",
      "com.galaxy.worlds.numbertracker Processing Finished\n",
      "screenmirroring.videoprojector.phoneprojector Processing...\n",
      "screenmirroring.videoprojector.phoneprojector Processing Finished\n",
      "com.imyfone.magicmic Processing...\n",
      "com.imyfone.magicmic Processing Finished\n",
      "com.modiface.loreal.stylemyhair Processing...\n",
      "com.modiface.loreal.stylemyhair Processing Finished\n",
      "full_body_scanner_photo_filter.human_body_parts_guide Processing...\n",
      "full_body_scanner_photo_filter.human_body_parts_guide Processing Finished\n",
      "us.rokdevapp.images.xray Processing...\n",
      "us.rokdevapp.images.xray Processing Finished\n",
      "com.bit.nining Processing...\n",
      "com.bit.nining Processing Finished\n",
      "app.facecheck.id Processing...\n",
      "app.facecheck.id Processing Finished\n",
      "com.dufftranslate.cameratranslatorapp21 Processing...\n",
      "com.dufftranslate.cameratranslatorapp21 Processing Finished\n",
      "com.tpc.couple.photo.mixer.blender Processing...\n",
      "com.tpc.couple.photo.mixer.blender Processing Finished\n",
      "com.kraph.phonetips Processing...\n",
      "com.kraph.phonetips Processing Finished\n",
      "com.tapinator.idlecraft Processing...\n",
      "com.tapinator.idlecraft Processing Finished\n",
      "wifianalyzer.speedtest.wifipasswordhacker Processing...\n",
      "wifianalyzer.speedtest.wifipasswordhacker Processing Finished\n"
     ]
    }
   ],
   "source": [
    "for appid in app_ids:\n",
    "    print(f'{appid} Processing...')\n",
    "    doc=app(appid)['description']\n",
    "    result=kw_model.extract_keywords(doc, keyphrase_ngram_range=(2, 2), stop_words=None, nr_candidates=10, top_n=5)\n",
    "    temp=[keys for keys in result]\n",
    "    keywords+=[key[0] for key in temp]\n",
    "    print(f'{appid} Processing Finished')\n"
   ]
  },
  {
   "cell_type": "code",
   "execution_count": 5,
   "metadata": {},
   "outputs": [
    {
     "name": "stdout",
     "output_type": "stream",
     "text": [
      "Total Keywords Before Cleaning Duplicate ==> 175\n",
      "Total Keywords After Cleaning Duplicate ==> 153\n"
     ]
    }
   ],
   "source": [
    "# clean duplicate Appid\n",
    "print(f'Total Keywords Before Cleaning Duplicate ==> {len(keywords)}')\n",
    "keywords=set(keywords)\n",
    "print(f'Total Keywords After Cleaning Duplicate ==> {len(keywords)}')"
   ]
  },
  {
   "cell_type": "code",
   "execution_count": 6,
   "metadata": {},
   "outputs": [],
   "source": [
    "with open('Keywords.txt','w') as f:\n",
    "    for appkey in keywords:\n",
    "        f.write(appkey+'\\n')"
   ]
  }
 ],
 "metadata": {
  "kernelspec": {
   "display_name": "FX",
   "language": "python",
   "name": "python3"
  },
  "language_info": {
   "codemirror_mode": {
    "name": "ipython",
    "version": 3
   },
   "file_extension": ".py",
   "mimetype": "text/x-python",
   "name": "python",
   "nbconvert_exporter": "python",
   "pygments_lexer": "ipython3",
   "version": "3.10.10"
  },
  "orig_nbformat": 4
 },
 "nbformat": 4,
 "nbformat_minor": 2
}
